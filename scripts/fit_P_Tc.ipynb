{
 "cells": [
  {
   "cell_type": "markdown",
   "id": "6a938324-49c4-4cbd-bfb9-268804f6ff03",
   "metadata": {},
   "source": [
    "### Calibration of wave gauge with temperature compensation ###"
   ]
  },
  {
   "cell_type": "code",
   "execution_count": 1,
   "id": "a39d63f7",
   "metadata": {
    "ExecuteTime": {
     "end_time": "2023-06-17T19:08:59.721370900Z",
     "start_time": "2023-06-17T19:08:47.088785900Z"
    }
   },
   "outputs": [],
   "source": [
    "import logging\n",
    "import sys\n",
    "import matplotlib.pyplot as plt\n",
    "from matplotlib import cm\n",
    "import numpy as np\n",
    "import pandas as pd\n",
    "from pathlib import Path\n",
    "from typing import Optional, Dict\n",
    "from IPython.display import  display, HTML\n",
    "plt.rcParams[\"figure.figsize\"] = [6.5, 14]\n",
    "plt.rcParams[\"figure.autolayout\"] = True\n",
    "\n",
    "from utils2init import LoggingStyleAdapter\n",
    "\n",
    "pd.options.plotting.backend = 'holoviews'  # turns .plot to .plplot\n",
    "\n",
    "# Logging\n",
    "logger = logging.getLogger(__name__)\n",
    "logger.handlers[:] = []\n",
    "lf = LoggingStyleAdapter(logger)\n",
    "# logger.setLevel(logging.DEBUG)\n",
    "# Add one of handlers\n",
    "if False:\n",
    "    # Notebook DisplayHandler\n",
    "    class DisplayHandler(logging.Handler):\n",
    "        def emit(self, record):\n",
    "            message = self.format(record)\n",
    "            display(message)\n",
    "\n",
    "    class HTMLFormatter(logging.Formatter):\n",
    "        level_colors = {\n",
    "            logging.DEBUG: 'lightblue',\n",
    "            logging.INFO: 'dodgerblue',\n",
    "            logging.WARNING: 'goldenrod',\n",
    "            logging.ERROR: 'crimson',\n",
    "            logging.CRITICAL: 'firebrick'\n",
    "        }\n",
    "\n",
    "        def __init__(self):\n",
    "            super().__init__(\n",
    "                '<span style=\"font-weight: bold; color: green\">{asctime}</span> '\n",
    "                '[<span style=\"font-weight: bold; color: {levelcolor}\">{levelname}</span>] '\n",
    "                '{message}',\n",
    "                style='{'\n",
    "            )\n",
    "\n",
    "        def format(self, record):\n",
    "            record.levelcolor = self.level_colors.get(record.levelno, 'black')\n",
    "            return HTML(super().format(record))\n",
    "\n",
    "    handler = DisplayHandler()\n",
    "    handler.setFormatter(HTMLFormatter())\n",
    "\n",
    "    logger.addHandler(handler)\n",
    "else:\n",
    "    # StreamHandler\n",
    "    from colorama import Fore, Back, Style\n",
    "\n",
    "    class ColoredFormatter(logging.Formatter):\n",
    "        \"\"\"Colored log formatter.\"\"\"\n",
    "\n",
    "        def __init__(self, *args, colors: Optional[Dict[str, str]]=None, **kwargs) -> None:\n",
    "            \"\"\"Initialize the formatter with specified format strings.\"\"\"\n",
    "\n",
    "            super().__init__(*args, **kwargs)\n",
    "\n",
    "            self.colors = colors if colors else {}\n",
    "\n",
    "        def format(self, record) -> str:\n",
    "            \"\"\"Format the specified record as text.\"\"\"\n",
    "\n",
    "            record.color = self.colors.get(record.levelname, '')\n",
    "            record.reset = Style.RESET_ALL\n",
    "\n",
    "            return super().format(record)\n",
    "\n",
    "\n",
    "    formatter = ColoredFormatter(\n",
    "        '{asctime} |{color} {levelname:8} {reset}| {name} | {message}',\n",
    "        style='{', datefmt='%Y-%m-%d %H:%M:%S',\n",
    "        colors={\n",
    "            'DEBUG': Fore.CYAN,\n",
    "            'INFO': Fore.GREEN,\n",
    "            'WARNING': Fore.YELLOW,\n",
    "            'ERROR': Fore.RED,\n",
    "            'CRITICAL': Fore.RED + Back.WHITE + Style.BRIGHT,\n",
    "        }\n",
    "    )\n",
    "\n",
    "    handler = logging.StreamHandler(sys.stdout)\n",
    "    handler.setFormatter(formatter)\n",
    "    logger.addHandler(handler)\n"
   ]
  },
  {
   "cell_type": "code",
   "execution_count": 2,
   "id": "4c4cdb28",
   "metadata": {
    "ExecuteTime": {
     "end_time": "2023-06-17T19:09:27.986996Z",
     "start_time": "2023-06-17T19:08:59.721370900Z"
    }
   },
   "outputs": [
    {
     "name": "stderr",
     "output_type": "stream",
     "text": [
      "Raw files for 5 probes found:\n",
      "p01: [WindowsPath('d:/WorkData/_experiment/inclinometer/230425_Грузопоршневой/_raw/P/@incl_p01.TXT')]\n",
      "p02: [WindowsPath('d:/WorkData/_experiment/inclinometer/230425_Грузопоршневой/_raw/P/@incl_p02.TXT')]\n",
      "p03: [WindowsPath('d:/WorkData/_experiment/inclinometer/230425_Грузопоршневой/_raw/P/@incl_p03.TXT')]\n",
      "p04: [WindowsPath('d:/WorkData/_experiment/inclinometer/230425_Грузопоршневой/_raw/P/@incl_p04.TXT')]\n",
      "p05: [WindowsPath('d:/WorkData/_experiment/inclinometer/230425_Грузопоршневой/_raw/P/@incl_p05.TXT')]\n",
      "Loading 5 raw files...\n"
     ]
    },
    {
     "name": "stdout",
     "output_type": "stream",
     "text": [
      "79.9 % non-increased...\n"
     ]
    },
    {
     "name": "stderr",
     "output_type": "stream",
     "text": [
      "D:\\Work\\_Python3\\And0K\\h5toGrid\\filters.py:57: NumbaExperimentalFeatureWarning: \u001B[1m\u001B[1m\u001B[1m\u001B[1mUse of isinstance() detected. This is an experimental feature.\u001B[0m\u001B[0m\u001B[0m\u001B[0m\n",
      "  return np.where(bOk if bOk is not None else b, y[b], np.NaN)\n"
     ]
    },
    {
     "name": "stdout",
     "output_type": "stream",
     "text": [
      "Linearise time using reference frequency 5.0 (between holes > 2.0 s)\n",
      ".2023-06-17 21:09:27 |\u001B[32m INFO     \u001B[0m| __main__ | loaded 1\n"
     ]
    }
   ],
   "source": [
    "# Load data\n",
    "# %tb\n",
    "# Custom importing function\n",
    "# importing my functions\n",
    "# drive_d = 'D:' if sys.platform == 'win32' else '/mnt/D'  # to run on my Linux/Windows systems both\n",
    "# scripts_path = Path(drive_d + '/Work/_Python3/And0K/h5toGrid/inclinometer')\n",
    "# sys.path.append(str(Path(scripts_path).resolve()))\n",
    "from csv_load import load_from_csv_gen\n",
    "cfg_in = {'text_path':\n",
    "    Path(r'd:\\WorkData\\_experiment\\inclinometer\\230425_Грузопоршневой\\_raw\\P\\INKL_P{number:0>2}*.TXT')\n",
    "}\n",
    "for i, probe_id, path_csv, df_raw in load_from_csv_gen(cfg_in):\n",
    "    lf.info('loaded {}', i)\n",
    "    break\n",
    "df_raw = df_raw[['P_counts', 'Temp']]"
   ]
  },
  {
   "cell_type": "code",
   "execution_count": 3,
   "id": "cc35c349",
   "metadata": {
    "ExecuteTime": {
     "end_time": "2023-06-17T19:09:47.871263800Z",
     "start_time": "2023-06-17T19:09:47.806742400Z"
    }
   },
   "outputs": [
    {
     "name": "stdout",
     "output_type": "stream",
     "text": [
      "2023-06-17 21:09:47 |\u001B[32m INFO     \u001B[0m| __main__ | Processing file #1. Data:\n"
     ]
    },
    {
     "data": {
      "text/plain": "                                   P_counts   Temp\n2023-04-25 12:24:11+00:00         1849841.0  21.63\n2023-04-25 12:24:11.200000+00:00  1849809.0  21.63\n2023-04-25 12:24:11.400000+00:00  1849805.0  21.63\n2023-04-25 12:24:12+00:00         1849720.0  21.63\n2023-04-25 12:24:12.200000+00:00  1849746.0  21.63\n...                                     ...    ...\n2023-04-25 18:44:40.600000+00:00  1836966.0  28.61\n2023-04-25 18:44:40.800000+00:00  1836977.0  28.62\n2023-04-25 18:44:41+00:00         1836888.0  28.62\n2023-04-25 18:44:41.200000+00:00  1836927.0  28.62\n2023-04-25 18:44:41.400000+00:00  1836876.0  28.61\n\n[113400 rows x 2 columns]",
      "text/html": "<div>\n<style scoped>\n    .dataframe tbody tr th:only-of-type {\n        vertical-align: middle;\n    }\n\n    .dataframe tbody tr th {\n        vertical-align: top;\n    }\n\n    .dataframe thead th {\n        text-align: right;\n    }\n</style>\n<table border=\"1\" class=\"dataframe\">\n  <thead>\n    <tr style=\"text-align: right;\">\n      <th></th>\n      <th>P_counts</th>\n      <th>Temp</th>\n    </tr>\n  </thead>\n  <tbody>\n    <tr>\n      <th>2023-04-25 12:24:11+00:00</th>\n      <td>1849841.0</td>\n      <td>21.63</td>\n    </tr>\n    <tr>\n      <th>2023-04-25 12:24:11.200000+00:00</th>\n      <td>1849809.0</td>\n      <td>21.63</td>\n    </tr>\n    <tr>\n      <th>2023-04-25 12:24:11.400000+00:00</th>\n      <td>1849805.0</td>\n      <td>21.63</td>\n    </tr>\n    <tr>\n      <th>2023-04-25 12:24:12+00:00</th>\n      <td>1849720.0</td>\n      <td>21.63</td>\n    </tr>\n    <tr>\n      <th>2023-04-25 12:24:12.200000+00:00</th>\n      <td>1849746.0</td>\n      <td>21.63</td>\n    </tr>\n    <tr>\n      <th>...</th>\n      <td>...</td>\n      <td>...</td>\n    </tr>\n    <tr>\n      <th>2023-04-25 18:44:40.600000+00:00</th>\n      <td>1836966.0</td>\n      <td>28.61</td>\n    </tr>\n    <tr>\n      <th>2023-04-25 18:44:40.800000+00:00</th>\n      <td>1836977.0</td>\n      <td>28.62</td>\n    </tr>\n    <tr>\n      <th>2023-04-25 18:44:41+00:00</th>\n      <td>1836888.0</td>\n      <td>28.62</td>\n    </tr>\n    <tr>\n      <th>2023-04-25 18:44:41.200000+00:00</th>\n      <td>1836927.0</td>\n      <td>28.62</td>\n    </tr>\n    <tr>\n      <th>2023-04-25 18:44:41.400000+00:00</th>\n      <td>1836876.0</td>\n      <td>28.61</td>\n    </tr>\n  </tbody>\n</table>\n<p>113400 rows × 2 columns</p>\n</div>"
     },
     "execution_count": 3,
     "metadata": {},
     "output_type": "execute_result"
    }
   ],
   "source": [
    "lf.info('Processing file #{}. Data:', i)\n",
    "df_raw"
   ]
  },
  {
   "cell_type": "code",
   "execution_count": 14,
   "outputs": [],
   "source": [
    "import panel as pn\n",
    "from bokeh.plotting import figure\n",
    "# pn.extension()\n",
    "pn.config.sizing_mode = 'stretch_width'\n",
    "pn.config."
   ],
   "metadata": {
    "collapsed": false,
    "ExecuteTime": {
     "end_time": "2023-06-17T19:49:06.009275100Z",
     "start_time": "2023-06-17T19:49:05.977971400Z"
    }
   }
  },
  {
   "cell_type": "code",
   "execution_count": 21,
   "outputs": [
    {
     "name": "stderr",
     "output_type": "stream",
     "text": [
      "INFO:bokeh.server.server:Starting Bokeh server version 3.1.1 (running on Tornado 6.3.2)\n",
      "INFO:bokeh.server.tornado:User authentication hooks NOT provided (default user enabled)\n"
     ]
    },
    {
     "name": "stdout",
     "output_type": "stream",
     "text": [
      "Launching server at http://localhost:14055\n"
     ]
    }
   ],
   "source": [
    "fig = figure()  # width=300, height=300)\n",
    "xs = np.linspace(0, 10)\n",
    "r = p.line(xs, np.sin(xs))\n",
    "\n",
    "width_slider = pn.widgets.FloatSlider(name='Line Width', start=0.1, end=10)\n",
    "width_slider.jslink(r.glyph, value='line_width')\n",
    "\n",
    "layout = pn.Column(width_slider, fig)\n",
    "# layout = pn.Row(text_input, markdown)\n",
    "\n",
    "\n",
    "srv = pn.serve(layout, show=True)"
   ],
   "metadata": {
    "collapsed": false,
    "ExecuteTime": {
     "end_time": "2023-06-17T19:56:35.112416300Z",
     "start_time": "2023-06-17T19:56:35.034296400Z"
    }
   }
  },
  {
   "cell_type": "code",
   "execution_count": 12,
   "outputs": [
    {
     "data": {
      "text/plain": "'Some text1245'"
     },
     "execution_count": 12,
     "metadata": {},
     "output_type": "execute_result"
    }
   ],
   "source": [
    "width_slider.value"
   ],
   "metadata": {
    "collapsed": false,
    "ExecuteTime": {
     "end_time": "2023-06-17T19:39:40.588013100Z",
     "start_time": "2023-06-17T19:39:40.569285500Z"
    }
   }
  },
  {
   "cell_type": "code",
   "execution_count": 22,
   "outputs": [],
   "source": [
    "# srv.stop()\n",
    "pn.state.kill_all_servers()"
   ],
   "metadata": {
    "collapsed": false,
    "ExecuteTime": {
     "end_time": "2023-06-17T19:58:49.688675500Z",
     "start_time": "2023-06-17T19:58:49.657373300Z"
    }
   }
  },
  {
   "cell_type": "code",
   "execution_count": 70,
   "outputs": [
    {
     "name": "stderr",
     "output_type": "stream",
     "text": [
      "WARNING:param.CurvePlot14117: responsive mode could not be enabled because fixed width and height were specified.\n",
      "WARNING:param.CurvePlot14125: responsive mode could not be enabled because fixed width and height were specified.\n"
     ]
    },
    {
     "ename": "AttributeError",
     "evalue": "Selection.selected property descriptor does not exist",
     "output_type": "error",
     "traceback": [
      "\u001B[1;31m---------------------------------------------------------------------------\u001B[0m",
      "\u001B[1;31mAttributeError\u001B[0m                            Traceback (most recent call last)",
      "Cell \u001B[1;32mIn[70], line 70\u001B[0m\n\u001B[0;32m     66\u001B[0m     hv_header_panel\u001B[38;5;241m.\u001B[39mrelabel(label)\u001B[38;5;241m.\u001B[39mopts(color\u001B[38;5;241m=\u001B[39m\u001B[38;5;124m'\u001B[39m\u001B[38;5;124mred\u001B[39m\u001B[38;5;124m'\u001B[39m)\n\u001B[0;32m     69\u001B[0m \u001B[38;5;66;03m# Add the callback function to the figure\u001B[39;00m\n\u001B[1;32m---> 70\u001B[0m \u001B[43mlayout_plot\u001B[49m\u001B[38;5;241;43m.\u001B[39;49m\u001B[43mstate\u001B[49m\u001B[38;5;241;43m.\u001B[39;49m\u001B[43mchildren\u001B[49m\u001B[43m[\u001B[49m\u001B[38;5;241;43m0\u001B[39;49m\u001B[43m]\u001B[49m\u001B[43m[\u001B[49m\u001B[38;5;241;43m0\u001B[39;49m\u001B[43m]\u001B[49m\u001B[38;5;241;43m.\u001B[39;49m\u001B[43mrenderers\u001B[49m\u001B[43m[\u001B[49m\u001B[38;5;241;43m0\u001B[39;49m\u001B[43m]\u001B[49m\u001B[38;5;241;43m.\u001B[39;49m\u001B[43mdata_source\u001B[49m\u001B[38;5;241;43m.\u001B[39;49m\u001B[43mselected\u001B[49m\u001B[38;5;241;43m.\u001B[39;49m\u001B[43mon_change\u001B[49m\u001B[43m(\u001B[49m\u001B[38;5;124;43m'\u001B[39;49m\u001B[38;5;124;43mselected\u001B[39;49m\u001B[38;5;124;43m'\u001B[39;49m\u001B[43m,\u001B[49m\u001B[43m \u001B[49m\u001B[43mcallback\u001B[49m\u001B[43m)\u001B[49m  \u001B[38;5;66;03m# 'indices'?\u001B[39;00m\n\u001B[0;32m     71\u001B[0m \u001B[38;5;66;03m# or\u001B[39;00m\n\u001B[0;32m     72\u001B[0m sel_stream\u001B[38;5;241m.\u001B[39madd_subscriber(callback)\n",
      "File \u001B[1;32m~\\conda\\envs\\py3.10torts\\lib\\site-packages\\bokeh\\model\\model.py:464\u001B[0m, in \u001B[0;36mModel.on_change\u001B[1;34m(self, attr, *callbacks)\u001B[0m\n\u001B[0;32m    447\u001B[0m \u001B[38;5;28;01mdef\u001B[39;00m \u001B[38;5;21mon_change\u001B[39m(\u001B[38;5;28mself\u001B[39m, attr: \u001B[38;5;28mstr\u001B[39m, \u001B[38;5;241m*\u001B[39mcallbacks: PropertyCallback) \u001B[38;5;241m-\u001B[39m\u001B[38;5;241m>\u001B[39m \u001B[38;5;28;01mNone\u001B[39;00m:\n\u001B[0;32m    448\u001B[0m \u001B[38;5;250m    \u001B[39m\u001B[38;5;124;03m''' Add a callback on this object to trigger when ``attr`` changes.\u001B[39;00m\n\u001B[0;32m    449\u001B[0m \n\u001B[0;32m    450\u001B[0m \u001B[38;5;124;03m    Args:\u001B[39;00m\n\u001B[1;32m   (...)\u001B[0m\n\u001B[0;32m    462\u001B[0m \n\u001B[0;32m    463\u001B[0m \u001B[38;5;124;03m    '''\u001B[39;00m\n\u001B[1;32m--> 464\u001B[0m     descriptor \u001B[38;5;241m=\u001B[39m \u001B[38;5;28;43mself\u001B[39;49m\u001B[38;5;241;43m.\u001B[39;49m\u001B[43mlookup\u001B[49m\u001B[43m(\u001B[49m\u001B[43mattr\u001B[49m\u001B[43m)\u001B[49m\n\u001B[0;32m    465\u001B[0m     \u001B[38;5;28msuper\u001B[39m()\u001B[38;5;241m.\u001B[39mon_change(descriptor\u001B[38;5;241m.\u001B[39mname, \u001B[38;5;241m*\u001B[39mcallbacks)\n",
      "File \u001B[1;32m~\\conda\\envs\\py3.10torts\\lib\\site-packages\\bokeh\\core\\has_props.py:500\u001B[0m, in \u001B[0;36mHasProps.lookup\u001B[1;34m(cls, name, raises)\u001B[0m\n\u001B[0;32m    498\u001B[0m \u001B[38;5;28;01mif\u001B[39;00m attr \u001B[38;5;129;01mis\u001B[39;00m \u001B[38;5;129;01mnot\u001B[39;00m \u001B[38;5;28;01mNone\u001B[39;00m \u001B[38;5;129;01mor\u001B[39;00m (attr \u001B[38;5;129;01mis\u001B[39;00m \u001B[38;5;28;01mNone\u001B[39;00m \u001B[38;5;129;01mand\u001B[39;00m \u001B[38;5;129;01mnot\u001B[39;00m raises):\n\u001B[0;32m    499\u001B[0m     \u001B[38;5;28;01mreturn\u001B[39;00m attr\n\u001B[1;32m--> 500\u001B[0m \u001B[38;5;28;01mraise\u001B[39;00m \u001B[38;5;167;01mAttributeError\u001B[39;00m(\u001B[38;5;124mf\u001B[39m\u001B[38;5;124m\"\u001B[39m\u001B[38;5;132;01m{\u001B[39;00m\u001B[38;5;28mcls\u001B[39m\u001B[38;5;241m.\u001B[39m\u001B[38;5;18m__name__\u001B[39m\u001B[38;5;132;01m}\u001B[39;00m\u001B[38;5;124m.\u001B[39m\u001B[38;5;132;01m{\u001B[39;00mname\u001B[38;5;132;01m}\u001B[39;00m\u001B[38;5;124m property descriptor does not exist\u001B[39m\u001B[38;5;124m\"\u001B[39m)\n",
      "\u001B[1;31mAttributeError\u001B[0m: Selection.selected property descriptor does not exist"
     ]
    }
   ],
   "source": [
    "if False:\n",
    "    style = \"\"\"\n",
    "    <style>\n",
    "    div.output_area {\n",
    "        overflow-y: scroll;\n",
    "    }\n",
    "    div.output_area img {\n",
    "        max-width: unset;\n",
    "    }\n",
    "    </style>\n",
    "    \"\"\"\n",
    "    HTML(style)\n",
    "\n",
    "\n",
    "# def mouse_event(event):\n",
    "#     print('x: {} and y: {}'.format(event.xdata, event.ydata))\n",
    "\n",
    "#fig = plt.figure()\n",
    "#cid = fig.canvas.mpl_connect('button_press_event', mouse_event)\n",
    "\n",
    "df_raw.plot(grid=True, xlabel='Time')  # , include=['P_counts', 'Temp'] secondary_y = df_raw[['P_counts', 'Temp']]\n",
    "\n",
    "# plt.plot(x, y)\n",
    "# plt.show()\n",
    "# click anywhere on the plot, and it will show the coordinates of the points on the console"
   ],
   "metadata": {
    "collapsed": false,
    "ExecuteTime": {
     "end_time": "2023-06-12T20:12:09.090900200Z",
     "start_time": "2023-06-12T20:11:41.500029700Z"
    }
   }
  },
  {
   "cell_type": "code",
   "execution_count": 68,
   "id": "22376ff4-46c8-4368-97a8-e2ed63c63201",
   "metadata": {
    "ExecuteTime": {
     "end_time": "2023-06-12T19:52:38.023149200Z",
     "start_time": "2023-06-12T19:52:37.659691300Z"
    }
   },
   "outputs": [
    {
     "name": "stderr",
     "output_type": "stream",
     "text": [
      "INFO:bokeh.server.server:Starting Bokeh server version 3.1.1 (running on Tornado 6.3.2)\n",
      "INFO:bokeh.server.tornado:User authentication hooks NOT provided (default user enabled)\n"
     ]
    },
    {
     "name": "stdout",
     "output_type": "stream",
     "text": [
      "Launching server at http://localhost:2547\n"
     ]
    }
   ],
   "source": [
    "# Atmospheric pressure, dBar:\n",
    "y_a = 1008.5/100  # 1008.5 hPa\n",
    "# Real pressure, dBar:\n",
    "y = y_a + np.array([[0, 1*9.80665]]*3)  # converted from source values [0, 1 kg/cm2]\n",
    "y_values = y.flatten()\n",
    "print('Probe real pressure, dBar:\\n', y_values)\n",
    "# Probe mean values of recorded voltage, V and temperature, °C:\n",
    "u = [[0.862565, 1.67355], [0.846437, 1.65218], [0.822848, 1.61338]]  # Voltage\n",
    "t = [[1.74295, 2.16332], [8.63737, 8.73015], [19.1236, 19.2093]]     # Temperature\n",
    "x_values = np.column_stack((np.ravel(u), np.ravel(t)))\n",
    "print(f'Recordings ({x_values.shape} samples x features):\\n', x_values)"
   ]
  },
  {
   "cell_type": "code",
   "execution_count": 69,
   "id": "7e038fd9-0b07-49b2-ad55-5dba6a34bc2c",
   "metadata": {
    "ExecuteTime": {
     "end_time": "2023-06-12T20:11:34.063057200Z",
     "start_time": "2023-06-12T20:11:33.906753400Z"
    }
   },
   "outputs": [],
   "source": [
    "# from scipy.optimize import curve_fit\n",
    "from sklearn.preprocessing import PolynomialFeatures\n",
    "from sklearn.linear_model import LinearRegression\n",
    "from sklearn.metrics import mean_squared_error\n",
    "\n",
    "\n",
    "#define our polynomial model, with whatever degree we want\n",
    "degree=1\n",
    "\n",
    "# PolynomialFeatures will create a new matrix consisting of all polynomial combinations \n",
    "# of the features with a degree less than or equal to the degree we just gave the model (2)\n",
    "poly_model = PolynomialFeatures(degree=degree)\n",
    "\n",
    "# transform out polynomial features\n",
    "poly_x_values = poly_model.fit_transform(x_values)\n",
    "\n",
    "# For degree=2 should be in the form [1, a, b, a^2, ab, b^2]\n",
    "# print(f'initial values {x_values[0]} mapped to:\\n{poly_x_values[0]}')\n",
    "\n",
    "# Fit the model\n",
    "poly_model.fit(poly_x_values, y_values)\n",
    "\n",
    "# we use linear regression as a base!!! ** sometimes misunderstood **\n",
    "regr = LinearRegression()\n",
    "\n",
    "regr.fit(poly_x_values, y_values)\n",
    "\n",
    "#print(poly_x_values)\n",
    "\n",
    "y_pred = regr.predict(poly_x_values)\n",
    "print(f'Coefficients of {poly_model.get_feature_names_out()[1:]}:', f\"[{', '.join(str(k) for k in ([regr.intercept_] + regr.coef_[1:].tolist()))}]\")\n",
    "\n",
    "mse = mean_squared_error(y_values, y_pred, squared=False)\n",
    "print('Mean squared error:', mse)"
   ]
  },
  {
   "cell_type": "code",
   "execution_count": 46,
   "id": "350f9c3f-2957-4dcf-824c-6ea715bd6fa2",
   "metadata": {
    "ExecuteTime": {
     "end_time": "2023-06-12T16:44:16.244531900Z",
     "start_time": "2023-06-12T16:44:16.166350100Z"
    }
   },
   "outputs": [],
   "source": [
    "# Show plots \n",
    "%matplotlib inline  # is it realy changes something in juputerlab\n",
    "fig = plt.figure(figsize=plt.figaspect(0.4))\n",
    "ax2 = fig.add_subplot(2, 2, 2)\n",
    "ax3 = fig.add_subplot(2, 2, 4, sharex=ax2)\n",
    "ax1 = fig.add_subplot(1, 2, 1, projection='3d')\n",
    "\n",
    "# Plot result surface\n",
    "u_min, u_max, t_min, t_max, P_min, P_max = np.min(u), np.max(u), np.min(t), np.max(t), np.min(y_values), np.max(y_values)\n",
    "print('u(min,max):', u_min, u_max, 't(min,max):', t_min, t_max, 'P(min,max):', P_min, P_max)\n",
    "ptp_u, ptp_t = u_max - u_min, t_max - t_min\n",
    "n = 50\n",
    "X = np.linspace(u_min - ptp_u/n, u_max + ptp_u/n, n)\n",
    "Y = np.linspace(t_min - ptp_t/n, t_max + ptp_t/n, n)\n",
    "X, Y = np.meshgrid(X, Y)\n",
    "Z_in = np.column_stack((X.ravel(), Y.ravel()))\n",
    "Z = regr.predict(poly_model.fit_transform(Z_in)).reshape(X.shape)\n",
    "surf = ax1.plot_surface(X, Y, Z, cmap=cm.coolwarm, linewidth=0, antialiased=False, alpha=0.2)\n",
    "ax1.scatter3D(*x_values.T, y_values, color='k')\n",
    "ax1.set_xlabel('voltage, V')\n",
    "ax1.set_ylabel('temperature, °C')\n",
    "ax1.set_zlabel('P, dBar')  # pressure\n",
    "ax1.set_title('Fitting');\n",
    "\n",
    "# Plot predictions lines for each sub experiment in assumption that external values changes linear between fitting points\n",
    "# experiment's colors\n",
    "c_experiments = cm.rainbow(np.linspace(0, 1, y.shape[0]))\n",
    "# fitting points\n",
    "ax2.scatter(x_values[:,0], y_values, c=np.repeat(c_experiments, y.shape[1], axis=0))\n",
    "# predictions\n",
    "print('Errors of fit for experiments with different mean temperature:')\n",
    "for u_exp, t_exp, y_exp, c_exp in zip(u, t, y, c_experiments):\n",
    "    # print(u_exp, t_exp)\n",
    "    u_min, u_max, t_min, t_mean, t_max = np.min(u_exp), np.max(u_exp), np.min(t_exp), np.mean(t_exp), np.max(t_exp)\n",
    "    # print('u(min,max):', u_min, u_max, 't(min,max):', t_min, t_max)\n",
    "    X = np.linspace(u_min, u_max , n)\n",
    "    Y = np.linspace(t_min, t_max , n)\n",
    "    Z_in = np.column_stack((X, Y))\n",
    "    Z = regr.predict(poly_model.fit_transform(Z_in))\n",
    "    Z_bad = regr.intercept_ + (regr.coef_[1:] * Z_in).sum(axis=1)\n",
    "    np.testing.assert_array_equal(Z, Z_bad)\n",
    "    \n",
    "    ax2.plot(X, Z, color=c_exp, label=f'{t_mean:.1f}')\n",
    "    \n",
    "    z_diff = y_exp - regr.predict(poly_model.fit_transform([[u_min, t_min], [u_max, t_max]]))\n",
    "    print(f'{t_mean:.1f}:', z_diff)\n",
    "    \n",
    "    ax3.bar([u_min, u_max], z_diff, width=0.1, color=c_exp)\n",
    "    ax3.set_xlabel('voltage, V')\n",
    "    ax3.set_ylabel('P - P_fit, dBar')\n",
    "ax2.legend(title='mean t, °C')\n",
    "ax2.grid()\n",
    "ax3.grid()"
   ]
  },
  {
   "cell_type": "code",
   "execution_count": 40,
   "id": "b0556f8f-0e04-414f-9abe-0b9ba02738ef",
   "metadata": {
    "ExecuteTime": {
     "end_time": "2023-06-12T15:24:49.122941600Z",
     "start_time": "2023-06-12T15:24:48.190637400Z"
    }
   },
   "outputs": [
    {
     "name": "stderr",
     "output_type": "stream",
     "text": [
      "INFO:bokeh.server.server:Starting Bokeh server version 3.1.1 (running on Tornado 6.3.2)\n",
      "INFO:bokeh.server.tornado:User authentication hooks NOT provided (default user enabled)\n"
     ]
    },
    {
     "name": "stdout",
     "output_type": "stream",
     "text": [
      "Launching server at http://localhost:13414\n"
     ]
    },
    {
     "ename": "NameError",
     "evalue": "name 'interactive_clifford' is not defined",
     "output_type": "error",
     "traceback": [
      "\u001B[1;31m---------------------------------------------------------------------------\u001B[0m",
      "\u001B[1;31mNameError\u001B[0m                                 Traceback (most recent call last)",
      "Cell \u001B[1;32mIn[40], line 7\u001B[0m\n\u001B[0;32m      4\u001B[0m plots \u001B[38;5;241m=\u001B[39m df_raw\u001B[38;5;241m.\u001B[39mhvplot(subplots\u001B[38;5;241m=\u001B[39m\u001B[38;5;28;01mTrue\u001B[39;00m, tools\u001B[38;5;241m=\u001B[39m[\u001B[38;5;124m'\u001B[39m\u001B[38;5;124mbox_select\u001B[39m\u001B[38;5;124m'\u001B[39m, \u001B[38;5;124m'\u001B[39m\u001B[38;5;124mlasso_select\u001B[39m\u001B[38;5;124m'\u001B[39m])\u001B[38;5;241m.\u001B[39mcols(\u001B[38;5;241m1\u001B[39m)  \u001B[38;5;66;03m# tools=[BoxSelectTool()] not works?\u001B[39;00m\n\u001B[0;32m      5\u001B[0m p_curve \u001B[38;5;241m=\u001B[39m plots\u001B[38;5;241m.\u001B[39mdata[(\u001B[38;5;124m'\u001B[39m\u001B[38;5;124mP_counts\u001B[39m\u001B[38;5;124m'\u001B[39m,)]\n\u001B[1;32m----> 7\u001B[0m iclifford \u001B[38;5;241m=\u001B[39m hv\u001B[38;5;241m.\u001B[39mDynamicMap(\u001B[43minteractive_clifford\u001B[49m, kdims\u001B[38;5;241m=\u001B[39m[\u001B[38;5;124m'\u001B[39m\u001B[38;5;124ma\u001B[39m\u001B[38;5;124m'\u001B[39m,\u001B[38;5;124m'\u001B[39m\u001B[38;5;124mb\u001B[39m\u001B[38;5;124m'\u001B[39m,\u001B[38;5;124m'\u001B[39m\u001B[38;5;124mc\u001B[39m\u001B[38;5;124m'\u001B[39m,\u001B[38;5;124m'\u001B[39m\u001B[38;5;124md\u001B[39m\u001B[38;5;124m'\u001B[39m], streams\u001B[38;5;241m=\u001B[39m[\n\u001B[0;32m      8\u001B[0m     hv\u001B[38;5;241m.\u001B[39mstreams\u001B[38;5;241m.\u001B[39mPointerXY(x\u001B[38;5;241m=\u001B[39mdf_raw\u001B[38;5;241m.\u001B[39mindex[\u001B[38;5;241m0\u001B[39m],y\u001B[38;5;241m=\u001B[39mdf_raw[\u001B[38;5;124m'\u001B[39m\u001B[38;5;124mP_counts\u001B[39m\u001B[38;5;124m'\u001B[39m][\u001B[38;5;241m0\u001B[39m])])\n",
      "\u001B[1;31mNameError\u001B[0m: name 'interactive_clifford' is not defined"
     ]
    }
   ],
   "source": [
    "# Use formula for other data\n",
    "u = [0.841866, 0.926501, 1.00791, 1.08949, 1.17089, 1.25182]\n",
    "t = [15.0949, 15.0421, 14.9854, 14.9287, 14.884, 14.8525]\n",
    "# Atmospheric pressure, dBar:\n",
    "y_a = 1013/100  # 1008.5 hPa\n",
    "# Real pressure, dBar:\n",
    "y = y_a + np.append(0, np.arange(1.045, 1.045*(5 + 0.0001), 1.000))  # *9.80665\n",
    "z = regr.predict(poly_model.fit_transform(np.column_stack((u, t))))\n",
    "np.column_stack((y, z, y - z))"
   ]
  },
  {
   "cell_type": "code",
   "execution_count": 41,
   "id": "96da1727-fd31-4001-8f6d-b60d8a84b234",
   "metadata": {
    "ExecuteTime": {
     "end_time": "2023-06-12T15:25:22.586843200Z",
     "start_time": "2023-06-12T15:25:18.712724200Z"
    }
   },
   "outputs": [
    {
     "name": "stderr",
     "output_type": "stream",
     "text": [
      "WARNING:param.CurvePlot10142: responsive mode could not be enabled because fixed width and height were specified.\n",
      "WARNING:param.CurvePlot10150: responsive mode could not be enabled because fixed width and height were specified.\n"
     ]
    },
    {
     "data": {
      "text/plain": "GridPlot(id='bedbc8f6-d9d9-41f9-a388-ce893a00ddba', ...)",
      "text/html": "<div style=\"display: table;\"><div style=\"display: table-row;\"><div style=\"display: table-cell;\"><b title=\"bokeh.models.plots.GridPlot\">GridPlot</b>(</div><div style=\"display: table-cell;\">id&nbsp;=&nbsp;'bedbc8f6-d9d9-41f9-a388-ce893a00ddba', <span id=\"603290f8-8d4c-4c5b-8e37-546a36056e43\" style=\"cursor: pointer;\">&hellip;)</span></div></div><div class=\"f6eb3596-e440-44ec-aa55-013275556356\" style=\"display: none;\"><div style=\"display: table-cell;\"></div><div style=\"display: table-cell;\">align&nbsp;=&nbsp;'auto',</div></div><div class=\"f6eb3596-e440-44ec-aa55-013275556356\" style=\"display: none;\"><div style=\"display: table-cell;\"></div><div style=\"display: table-cell;\">aspect_ratio&nbsp;=&nbsp;None,</div></div><div class=\"f6eb3596-e440-44ec-aa55-013275556356\" style=\"display: none;\"><div style=\"display: table-cell;\"></div><div style=\"display: table-cell;\">children&nbsp;=&nbsp;[(figure(id='f0c1b548-033e-4004-83a9-48f599319c4f', ...), 0, 0), (figure(id='1d9f0ccc-9aff-4534-b761-3156bfa45150', ...), 1, 0)],</div></div><div class=\"f6eb3596-e440-44ec-aa55-013275556356\" style=\"display: none;\"><div style=\"display: table-cell;\"></div><div style=\"display: table-cell;\">cols&nbsp;=&nbsp;None,</div></div><div class=\"f6eb3596-e440-44ec-aa55-013275556356\" style=\"display: none;\"><div style=\"display: table-cell;\"></div><div style=\"display: table-cell;\">context_menu&nbsp;=&nbsp;None,</div></div><div class=\"f6eb3596-e440-44ec-aa55-013275556356\" style=\"display: none;\"><div style=\"display: table-cell;\"></div><div style=\"display: table-cell;\">css_classes&nbsp;=&nbsp;[],</div></div><div class=\"f6eb3596-e440-44ec-aa55-013275556356\" style=\"display: none;\"><div style=\"display: table-cell;\"></div><div style=\"display: table-cell;\">disabled&nbsp;=&nbsp;False,</div></div><div class=\"f6eb3596-e440-44ec-aa55-013275556356\" style=\"display: none;\"><div style=\"display: table-cell;\"></div><div style=\"display: table-cell;\">flow_mode&nbsp;=&nbsp;'block',</div></div><div class=\"f6eb3596-e440-44ec-aa55-013275556356\" style=\"display: none;\"><div style=\"display: table-cell;\"></div><div style=\"display: table-cell;\">height&nbsp;=&nbsp;None,</div></div><div class=\"f6eb3596-e440-44ec-aa55-013275556356\" style=\"display: none;\"><div style=\"display: table-cell;\"></div><div style=\"display: table-cell;\">height_policy&nbsp;=&nbsp;'auto',</div></div><div class=\"f6eb3596-e440-44ec-aa55-013275556356\" style=\"display: none;\"><div style=\"display: table-cell;\"></div><div style=\"display: table-cell;\">js_event_callbacks&nbsp;=&nbsp;{},</div></div><div class=\"f6eb3596-e440-44ec-aa55-013275556356\" style=\"display: none;\"><div style=\"display: table-cell;\"></div><div style=\"display: table-cell;\">js_property_callbacks&nbsp;=&nbsp;{},</div></div><div class=\"f6eb3596-e440-44ec-aa55-013275556356\" style=\"display: none;\"><div style=\"display: table-cell;\"></div><div style=\"display: table-cell;\">margin&nbsp;=&nbsp;None,</div></div><div class=\"f6eb3596-e440-44ec-aa55-013275556356\" style=\"display: none;\"><div style=\"display: table-cell;\"></div><div style=\"display: table-cell;\">max_height&nbsp;=&nbsp;None,</div></div><div class=\"f6eb3596-e440-44ec-aa55-013275556356\" style=\"display: none;\"><div style=\"display: table-cell;\"></div><div style=\"display: table-cell;\">max_width&nbsp;=&nbsp;None,</div></div><div class=\"f6eb3596-e440-44ec-aa55-013275556356\" style=\"display: none;\"><div style=\"display: table-cell;\"></div><div style=\"display: table-cell;\">min_height&nbsp;=&nbsp;None,</div></div><div class=\"f6eb3596-e440-44ec-aa55-013275556356\" style=\"display: none;\"><div style=\"display: table-cell;\"></div><div style=\"display: table-cell;\">min_width&nbsp;=&nbsp;None,</div></div><div class=\"f6eb3596-e440-44ec-aa55-013275556356\" style=\"display: none;\"><div style=\"display: table-cell;\"></div><div style=\"display: table-cell;\">name&nbsp;=&nbsp;None,</div></div><div class=\"f6eb3596-e440-44ec-aa55-013275556356\" style=\"display: none;\"><div style=\"display: table-cell;\"></div><div style=\"display: table-cell;\">resizable&nbsp;=&nbsp;False,</div></div><div class=\"f6eb3596-e440-44ec-aa55-013275556356\" style=\"display: none;\"><div style=\"display: table-cell;\"></div><div style=\"display: table-cell;\">rows&nbsp;=&nbsp;None,</div></div><div class=\"f6eb3596-e440-44ec-aa55-013275556356\" style=\"display: none;\"><div style=\"display: table-cell;\"></div><div style=\"display: table-cell;\">sizing_mode&nbsp;=&nbsp;None,</div></div><div class=\"f6eb3596-e440-44ec-aa55-013275556356\" style=\"display: none;\"><div style=\"display: table-cell;\"></div><div style=\"display: table-cell;\">spacing&nbsp;=&nbsp;0,</div></div><div class=\"f6eb3596-e440-44ec-aa55-013275556356\" style=\"display: none;\"><div style=\"display: table-cell;\"></div><div style=\"display: table-cell;\">styles&nbsp;=&nbsp;{},</div></div><div class=\"f6eb3596-e440-44ec-aa55-013275556356\" style=\"display: none;\"><div style=\"display: table-cell;\"></div><div style=\"display: table-cell;\">stylesheets&nbsp;=&nbsp;[],</div></div><div class=\"f6eb3596-e440-44ec-aa55-013275556356\" style=\"display: none;\"><div style=\"display: table-cell;\"></div><div style=\"display: table-cell;\">subscribed_events&nbsp;=&nbsp;PropertyValueSet(),</div></div><div class=\"f6eb3596-e440-44ec-aa55-013275556356\" style=\"display: none;\"><div style=\"display: table-cell;\"></div><div style=\"display: table-cell;\">syncable&nbsp;=&nbsp;True,</div></div><div class=\"f6eb3596-e440-44ec-aa55-013275556356\" style=\"display: none;\"><div style=\"display: table-cell;\"></div><div style=\"display: table-cell;\">tags&nbsp;=&nbsp;[],</div></div><div class=\"f6eb3596-e440-44ec-aa55-013275556356\" style=\"display: none;\"><div style=\"display: table-cell;\"></div><div style=\"display: table-cell;\">toolbar&nbsp;=&nbsp;Toolbar(id='a1adc2f1-367b-4dc6-8cdb-4213bf0e0bef', ...),</div></div><div class=\"f6eb3596-e440-44ec-aa55-013275556356\" style=\"display: none;\"><div style=\"display: table-cell;\"></div><div style=\"display: table-cell;\">toolbar_location&nbsp;=&nbsp;'above',</div></div><div class=\"f6eb3596-e440-44ec-aa55-013275556356\" style=\"display: none;\"><div style=\"display: table-cell;\"></div><div style=\"display: table-cell;\">visible&nbsp;=&nbsp;True,</div></div><div class=\"f6eb3596-e440-44ec-aa55-013275556356\" style=\"display: none;\"><div style=\"display: table-cell;\"></div><div style=\"display: table-cell;\">width&nbsp;=&nbsp;None,</div></div><div class=\"f6eb3596-e440-44ec-aa55-013275556356\" style=\"display: none;\"><div style=\"display: table-cell;\"></div><div style=\"display: table-cell;\">width_policy&nbsp;=&nbsp;'auto')</div></div></div>\n<script>\n(function() {\n  let expanded = false;\n  const ellipsis = document.getElementById(\"603290f8-8d4c-4c5b-8e37-546a36056e43\");\n  ellipsis.addEventListener(\"click\", function() {\n    const rows = document.getElementsByClassName(\"f6eb3596-e440-44ec-aa55-013275556356\");\n    for (let i = 0; i < rows.length; i++) {\n      const el = rows[i];\n      el.style.display = expanded ? \"none\" : \"table-row\";\n    }\n    ellipsis.innerHTML = expanded ? \"&hellip;)\" : \"&lsaquo;&lsaquo;&lsaquo;\";\n    expanded = !expanded;\n  });\n})();\n</script>\n"
     },
     "execution_count": 41,
     "metadata": {},
     "output_type": "execute_result"
    }
   ],
   "source": [
    "# display fitted polynom formula (not tried)\n",
    "def join_txt(text,delim='*'):\n",
    "    return np.asarray(delim.join(text),dtype=object)\n",
    "\n",
    "if True: \n",
    "    variable_names=poly.get_feature_names_out(X.columns)\n",
    "    variable_names=np.core.defchararray.replace(variable_names.astype(str),' ','*')    \n",
    "\n",
    "    fit_coeffs=[\"{:0.5g}\".format(x) for x in fit.coef_]\n",
    "\n",
    "    arr_list=[fit_coeffs,variable_names]\n",
    "    fit_equation=np.apply_along_axis(join_txt, 0, arr_list)\n",
    "    fit_equation='+'.join(fit_equation)\n",
    "    fit_equation=fit_equation.replace(\"*1+\",\"+\")\n",
    "    fit_equation=fit_equation.replace(\"+-\",\"-\")\n",
    "\n",
    "    print(\"Fit equation:\")    \n",
    "    print(fit_equation)"
   ]
  },
  {
   "cell_type": "code",
   "execution_count": 46,
   "id": "2c870707-13b9-46c5-9bf2-08fa5567fe45",
   "metadata": {},
   "outputs": [
    {
     "data": {
      "text/plain": [
       "[<matplotlib.lines.Line2D at 0x15f7b2870d0>]"
      ]
     },
     "execution_count": 46,
     "metadata": {},
     "output_type": "execute_result"
    },
    {
     "data": {
      "image/png": "[encoded data removed]",
      "text/plain": [
       "<Figure size 640x480 with 1 Axes>"
      ]
     },
     "metadata": {},
     "output_type": "display_data"
    }
   ],
   "source": [
    "# check our accuracy for each degree, the lower the error the better!\n",
    "number_degrees = [1,2,3,4,5,6,7]\n",
    "plt_mean_squared_error = []\n",
    "for degree in number_degrees:\n",
    "\n",
    "   poly_model = PolynomialFeatures(degree=degree)\n",
    "  \n",
    "   poly_x_values = poly_model.fit_transform(x_values)\n",
    "   poly_model.fit(poly_x_values, y_values)\n",
    "  \n",
    "   regression_model = LinearRegression()\n",
    "   regression_model.fit(poly_x_values, y_values)\n",
    "   y_pred = regression_model.predict(poly_x_values)\n",
    "  \n",
    "   plt_mean_squared_error.append(mean_squared_error(y_values, y_pred, squared=False))\n",
    "  \n",
    "plt.scatter(number_degrees,plt_mean_squared_error, color=\"green\")\n",
    "plt.plot(number_degrees,plt_mean_squared_error, color=\"red\") "
   ]
  },
  {
   "cell_type": "code",
   "execution_count": null,
   "id": "c705f96b-d00b-47d8-92ca-ae38382dc3f1",
   "metadata": {},
   "outputs": [],
   "source": []
  }
 ],
 "metadata": {
  "kernelspec": {
   "display_name": "Python [conda env:py3.10torts]",
   "language": "python",
   "name": "conda-env-py3.10torts-py"
  },
  "language_info": {
   "codemirror_mode": {
    "name": "ipython",
    "version": 3
   },
   "file_extension": ".py",
   "mimetype": "text/x-python",
   "name": "python",
   "nbconvert_exporter": "python",
   "pygments_lexer": "ipython3",
   "version": "3.10.11"
  }
 },
 "nbformat": 4,
 "nbformat_minor": 5
}
